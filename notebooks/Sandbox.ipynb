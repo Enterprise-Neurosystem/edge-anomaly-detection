{
 "cells": [
  {
   "cell_type": "code",
   "execution_count": null,
   "id": "3b4dc1f1-8d6e-4869-ade8-cafc22baa817",
   "metadata": {},
   "outputs": [],
   "source": [
    "def print_some_text(entered_text):\n",
    "    print('This is what you entered: ' + entered_text)\n",
    "    \n",
    "my_text = 'Hello World!'\n",
    "\n",
    "print_some_text(my_text)"
   ]
  },
  {
   "cell_type": "code",
   "execution_count": null,
   "id": "70c9ed5e-60e1-42dd-b9c3-87fcfc79493e",
   "metadata": {},
   "outputs": [],
   "source": [
    "new_text = 'Bye!'\n",
    "\n",
    "# Of course, functions defined in another cell are still accessible!\n",
    "print_some_text(new_text)"
   ]
  },
  {
   "cell_type": "markdown",
   "id": "92bc6513-dbe5-4128-9399-d4d3ab9be845",
   "metadata": {},
   "source": [
    "# This is a markdown cell\n",
    "## Chapter 1\n",
    "You can use **markdown** formatting to enter your text.\n",
    "\n",
    "*Double-click* on the cell to modify it!\n",
    "\n",
    "[Markdown reference](https://www.markdownguide.org/basic-syntax/)"
   ]
  }
 ],
 "metadata": {
  "kernelspec": {
   "display_name": "Python 3 (ipykernel)",
   "language": "python",
   "name": "python3"
  },
  "language_info": {
   "codemirror_mode": {
    "name": "ipython",
    "version": 3
   },
   "file_extension": ".py",
   "mimetype": "text/x-python",
   "name": "python",
   "nbconvert_exporter": "python",
   "pygments_lexer": "ipython3",
   "version": "3.8.8"
  }
 },
 "nbformat": 4,
 "nbformat_minor": 5
}
