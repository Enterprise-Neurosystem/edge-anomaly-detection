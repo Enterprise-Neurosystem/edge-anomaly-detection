{
 "cells": [
  {
   "cell_type": "code",
   "execution_count": 4,
   "id": "ce982eef-897c-48f9-b223-76009d701d70",
   "metadata": {},
   "outputs": [
    {
     "name": "stdout",
     "output_type": "stream",
     "text": [
      "importing Jupyter notebook from config.ipynb\n",
      "Requirement already satisfied: psycopg2 in /opt/app-root/lib/python3.8/site-packages (2.9.3)\n",
      "\u001b[33mWARNING: You are using pip version 21.3.1; however, version 22.1.2 is available.\n",
      "You should consider upgrading via the '/opt/app-root/bin/python3.8 -m pip install --upgrade pip' command.\u001b[0m\n"
     ]
    }
   ],
   "source": [
    "import psycopg2\n",
    "# import config function \n",
    "import import_ipynb\n",
    "from config import config\n",
    "import pandas as pd"
   ]
  },
  {
   "cell_type": "code",
   "execution_count": 5,
   "id": "895edf1e-50f8-4ee7-94f5-5429bdb52678",
   "metadata": {},
   "outputs": [
    {
     "name": "stdout",
     "output_type": "stream",
     "text": [
      "Table dropped... \n"
     ]
    }
   ],
   "source": [
    "# Drop previously created table named casing1\n",
    "# read database configuration\n",
    "params = config()\n",
    "# connect to PostgreSQL datatbase\n",
    "conn = psycopg2.connect(**params)\n",
    "# create a cursor to execute SQL queries\n",
    "cur = conn.cursor()\n",
    "# execute DROP TABLE statement\n",
    "cur.execute(\"DROP TABLE casing1\")\n",
    "print(\"Table dropped... \")\n",
    "\n",
    "# commit your changes in the database\n",
    "conn.commit()\n",
    "# close the cursor and connection so the server can allocate resources to other requests\n",
    "cur.close()\n",
    "conn.close()"
   ]
  },
  {
   "cell_type": "code",
   "execution_count": 7,
   "id": "9566fdc2-5b9a-4f32-ad0c-75bd4dd8d1ca",
   "metadata": {},
   "outputs": [
    {
     "name": "stdout",
     "output_type": "stream",
     "text": [
      "Python connected to PostgreSQL!\n",
      "Dataset created in PostgreSQL\n"
     ]
    }
   ],
   "source": [
    "# Create empty table named casing1 in PostgreSQl\n",
    "# read database configuration\n",
    "params = config()\n",
    "# connect to PostgreSQL datatbase\n",
    "conn = psycopg2.connect(**params)\n",
    "print('Python connected to PostgreSQL!')\n",
    "# create a new cursor\n",
    "cur = conn.cursor()\n",
    "# execute CREATE TABLE statement\n",
    "cur.execute(\"\"\" \n",
    "CREATE TABLE casing1(\n",
    "date_time VARCHAR(255),\n",
    "pressure FLOAT(53));\n",
    "\"\"\")\n",
    "print('Dataset created in PostgreSQL')\n",
    "# commit your changes to the database\n",
    "conn.commit()"
   ]
  },
  {
   "cell_type": "code",
   "execution_count": 35,
   "id": "50c01538-b774-4e7d-884a-ff87907f0d3b",
   "metadata": {},
   "outputs": [],
   "source": [
    "# Rename column names in csv file to match column names in table\n",
    "# convert header into first row\n",
    "# df=pd.read_csv('casing1.csv', header=None)\n",
    "# df.columns=['date_time', 'pressure']\n",
    "# save changes to csv file\n",
    "# df.to_csv('casing1.csv',index=False)"
   ]
  },
  {
   "cell_type": "code",
   "execution_count": 8,
   "id": "5f75dc05-3a2a-4421-9dc2-7b9e4e01f811",
   "metadata": {},
   "outputs": [],
   "source": [
    "# Copying values from .csv file into table casing1 in PostgresSQL\n",
    "# read database configuration\n",
    "params = config()\n",
    "# connect to PostgreSQL datatbase\n",
    "conn = psycopg2.connect(**params)\n",
    "# create a new cursor\n",
    "cur = conn.cursor()\n",
    "sql = \"COPY casing1 FROM STDIN DELIMITER ',' CSV HEADER\"\n",
    "csv_file_name = 'casing1.csv'\n",
    "cur.copy_expert(sql, open(csv_file_name, \"r\"))\n",
    "conn.commit()"
   ]
  },
  {
   "cell_type": "code",
   "execution_count": 10,
   "id": "eff71164-deed-48e2-9174-e0d532037df3",
   "metadata": {},
   "outputs": [],
   "source": [
    "def create_pandas_table(sql_query, database = conn):\n",
    "    \"\"\" takes in a PostgreSQL query and outputs a pandas dataframe\"\"\"\n",
    "    table = pd.read_sql_query(sql_query, database)\n",
    "    return table"
   ]
  },
  {
   "cell_type": "code",
   "execution_count": 11,
   "id": "f523a68a-4e97-4981-87cf-a1a351763cd6",
   "metadata": {},
   "outputs": [
    {
     "data": {
      "text/html": [
       "<div>\n",
       "<style scoped>\n",
       "    .dataframe tbody tr th:only-of-type {\n",
       "        vertical-align: middle;\n",
       "    }\n",
       "\n",
       "    .dataframe tbody tr th {\n",
       "        vertical-align: top;\n",
       "    }\n",
       "\n",
       "    .dataframe thead th {\n",
       "        text-align: right;\n",
       "    }\n",
       "</style>\n",
       "<table border=\"1\" class=\"dataframe\">\n",
       "  <thead>\n",
       "    <tr style=\"text-align: right;\">\n",
       "      <th></th>\n",
       "      <th>date_time</th>\n",
       "      <th>pressure</th>\n",
       "    </tr>\n",
       "  </thead>\n",
       "  <tbody>\n",
       "    <tr>\n",
       "      <th>0</th>\n",
       "      <td>8/21/2016 10:00</td>\n",
       "      <td>168.800003</td>\n",
       "    </tr>\n",
       "    <tr>\n",
       "      <th>1</th>\n",
       "      <td>8/21/2016 13:00</td>\n",
       "      <td>169.899994</td>\n",
       "    </tr>\n",
       "    <tr>\n",
       "      <th>2</th>\n",
       "      <td>8/21/2016 16:00</td>\n",
       "      <td>171.100006</td>\n",
       "    </tr>\n",
       "    <tr>\n",
       "      <th>3</th>\n",
       "      <td>8/21/2016 19:00</td>\n",
       "      <td>169.399994</td>\n",
       "    </tr>\n",
       "    <tr>\n",
       "      <th>4</th>\n",
       "      <td>8/21/2016 22:00</td>\n",
       "      <td>168.800003</td>\n",
       "    </tr>\n",
       "    <tr>\n",
       "      <th>...</th>\n",
       "      <td>...</td>\n",
       "      <td>...</td>\n",
       "    </tr>\n",
       "    <tr>\n",
       "      <th>348</th>\n",
       "      <td>10/2/2016 6:00</td>\n",
       "      <td>166.500000</td>\n",
       "    </tr>\n",
       "    <tr>\n",
       "      <th>349</th>\n",
       "      <td>10/2/2016 9:00</td>\n",
       "      <td>149.899994</td>\n",
       "    </tr>\n",
       "    <tr>\n",
       "      <th>350</th>\n",
       "      <td>10/2/2016 11:00</td>\n",
       "      <td>159.600006</td>\n",
       "    </tr>\n",
       "    <tr>\n",
       "      <th>351</th>\n",
       "      <td>10/2/2016 14:00</td>\n",
       "      <td>145.300003</td>\n",
       "    </tr>\n",
       "    <tr>\n",
       "      <th>352</th>\n",
       "      <td>10/2/2016 15:00</td>\n",
       "      <td>169.399994</td>\n",
       "    </tr>\n",
       "  </tbody>\n",
       "</table>\n",
       "<p>353 rows × 2 columns</p>\n",
       "</div>"
      ],
      "text/plain": [
       "           date_time    pressure\n",
       "0    8/21/2016 10:00  168.800003\n",
       "1    8/21/2016 13:00  169.899994\n",
       "2    8/21/2016 16:00  171.100006\n",
       "3    8/21/2016 19:00  169.399994\n",
       "4    8/21/2016 22:00  168.800003\n",
       "..               ...         ...\n",
       "348   10/2/2016 6:00  166.500000\n",
       "349   10/2/2016 9:00  149.899994\n",
       "350  10/2/2016 11:00  159.600006\n",
       "351  10/2/2016 14:00  145.300003\n",
       "352  10/2/2016 15:00  169.399994\n",
       "\n",
       "[353 rows x 2 columns]"
      ]
     },
     "execution_count": 11,
     "metadata": {},
     "output_type": "execute_result"
    }
   ],
   "source": [
    "casing1_df = create_pandas_table(\"SELECT date_time, pressure FROM casing1\")\n",
    "casing1_df"
   ]
  }
 ],
 "metadata": {
  "kernelspec": {
   "display_name": "Python 3 (ipykernel)",
   "language": "python",
   "name": "python3"
  },
  "language_info": {
   "codemirror_mode": {
    "name": "ipython",
    "version": 3
   },
   "file_extension": ".py",
   "mimetype": "text/x-python",
   "name": "python",
   "nbconvert_exporter": "python",
   "pygments_lexer": "ipython3",
   "version": "3.8.8"
  }
 },
 "nbformat": 4,
 "nbformat_minor": 5
}
