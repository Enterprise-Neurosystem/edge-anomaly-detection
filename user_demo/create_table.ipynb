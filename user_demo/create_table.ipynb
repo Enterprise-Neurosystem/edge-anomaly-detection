{
 "cells": [
  {
   "cell_type": "code",
   "execution_count": null,
   "id": "ce982eef-897c-48f9-b223-76009d701d70",
   "metadata": {},
   "outputs": [],
   "source": [
    "import psycopg2\n",
    "# import config function \n",
    "import import_ipynb\n",
    "from config import config\n",
    "import pandas as pd"
   ]
  },
  {
   "cell_type": "code",
   "execution_count": null,
   "id": "895edf1e-50f8-4ee7-94f5-5429bdb52678",
   "metadata": {},
   "outputs": [],
   "source": [
    "# Drop previously created table named casing1\n",
    "# read database configuration\n",
    "params = config()\n",
    "# connect to PostgreSQL datatbase\n",
    "conn = psycopg2.connect(**params)\n",
    "# create a cursor to execute SQL queries\n",
    "cur = conn.cursor()\n",
    "# execute DROP TABLE statement\n",
    "cur.execute(\"DROP TABLE casing1\")\n",
    "print(\"Table dropped... \")\n",
    "\n",
    "# commit your changes in the database\n",
    "conn.commit()\n",
    "# close the cursor and connection so the server can allocate resources to other requests\n",
    "cur.close()\n",
    "conn.close()"
   ]
  },
  {
   "cell_type": "code",
   "execution_count": null,
   "id": "9566fdc2-5b9a-4f32-ad0c-75bd4dd8d1ca",
   "metadata": {},
   "outputs": [],
   "source": [
    "# Create empty table named casing1 in PostgreSQl\n",
    "# read database configuration\n",
    "params = config()\n",
    "# connect to PostgreSQL datatbase\n",
    "conn = psycopg2.connect(**params)\n",
    "print('Python connected to PostgreSQL!')\n",
    "# create a new cursor\n",
    "cur = conn.cursor()\n",
    "# execute CREATE TABLE statement\n",
    "cur.execute(\"\"\" \n",
    "CREATE TABLE casing1(\n",
    "date_time VARCHAR(255),\n",
    "pressure FLOAT(53));\n",
    "\"\"\")\n",
    "print('Dataset created in PostgreSQL')\n",
    "# commit your changes to the database\n",
    "conn.commit()"
   ]
  },
  {
   "cell_type": "code",
   "execution_count": null,
   "id": "50c01538-b774-4e7d-884a-ff87907f0d3b",
   "metadata": {},
   "outputs": [],
   "source": [
    "# Rename column names in csv file to match column names in table\n",
    "# convert header into first row\n",
    "# df=pd.read_csv('casing1.csv', header=None)\n",
    "# df.columns=['date_time', 'pressure']\n",
    "# save changes to csv file\n",
    "# df.to_csv('casing1.csv',index=False)"
   ]
  },
  {
   "cell_type": "code",
   "execution_count": null,
   "id": "5f75dc05-3a2a-4421-9dc2-7b9e4e01f811",
   "metadata": {},
   "outputs": [],
   "source": [
    "# Copying values from .csv file into table casing1 in PostgresSQL\n",
    "# read database configuration\n",
    "params = config()\n",
    "# connect to PostgreSQL datatbase\n",
    "conn = psycopg2.connect(**params)\n",
    "# create a new cursor\n",
    "cur = conn.cursor()\n",
    "sql = \"COPY casing1 FROM STDIN DELIMITER ',' CSV HEADER\"\n",
    "csv_file_name = 'casing1.csv'\n",
    "cur.copy_expert(sql, open(csv_file_name, \"r\"))\n",
    "conn.commit()"
   ]
  },
  {
   "cell_type": "code",
   "execution_count": null,
   "id": "eff71164-deed-48e2-9174-e0d532037df3",
   "metadata": {},
   "outputs": [],
   "source": [
    "def create_pandas_table(sql_query, database = conn):\n",
    "    \"\"\" takes in a PostgreSQL query and outputs a pandas dataframe\"\"\"\n",
    "    table = pd.read_sql_query(sql_query, database)\n",
    "    return table"
   ]
  },
  {
   "cell_type": "code",
   "execution_count": null,
   "id": "f523a68a-4e97-4981-87cf-a1a351763cd6",
   "metadata": {},
   "outputs": [],
   "source": [
    "casing1_df = create_pandas_table(\"SELECT date_time, pressure FROM casing1\")\n",
    "casing1_df"
   ]
  }
 ],
 "metadata": {
  "kernelspec": {
   "display_name": "Python 3.10.6 ('venv': venv)",
   "language": "python",
   "name": "python3"
  },
  "language_info": {
   "codemirror_mode": {
    "name": "ipython",
    "version": 3
   },
   "file_extension": ".py",
   "mimetype": "text/x-python",
   "name": "python",
   "nbconvert_exporter": "python",
   "pygments_lexer": "ipython3",
   "version": "3.10.6"
  },
  "vscode": {
   "interpreter": {
    "hash": "dccf4027ef70ee35bdc54fa5e25130a739598e5794ce3f9ebb9de4e2d65567ea"
   }
  }
 },
 "nbformat": 4,
 "nbformat_minor": 5
}
