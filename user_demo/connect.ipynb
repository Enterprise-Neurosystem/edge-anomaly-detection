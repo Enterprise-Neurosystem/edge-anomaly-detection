{
 "cells": [
  {
   "cell_type": "code",
   "execution_count": 11,
   "id": "d18a8e47-910d-4d81-8c71-ce6b7839005b",
   "metadata": {},
   "outputs": [
    {
     "name": "stdout",
     "output_type": "stream",
     "text": [
      "Collecting import_ipynb\n",
      "  Downloading import_ipynb-0.1.4-py3-none-any.whl (4.1 kB)\n",
      "Requirement already satisfied: IPython in /opt/app-root/lib/python3.8/site-packages (from import_ipynb) (8.0.0)\n",
      "Requirement already satisfied: nbformat in /opt/app-root/lib/python3.8/site-packages (from import_ipynb) (5.1.3)\n",
      "Requirement already satisfied: pickleshare in /opt/app-root/lib/python3.8/site-packages (from IPython->import_ipynb) (0.7.5)\n",
      "Requirement already satisfied: black in /opt/app-root/lib/python3.8/site-packages (from IPython->import_ipynb) (21.12b0)\n",
      "Requirement already satisfied: decorator in /opt/app-root/lib/python3.8/site-packages (from IPython->import_ipynb) (5.1.1)\n",
      "Requirement already satisfied: pygments in /opt/app-root/lib/python3.8/site-packages (from IPython->import_ipynb) (2.11.2)\n",
      "Requirement already satisfied: prompt-toolkit!=3.0.0,!=3.0.1,<3.1.0,>=2.0.0 in /opt/app-root/lib/python3.8/site-packages (from IPython->import_ipynb) (3.0.24)\n",
      "Requirement already satisfied: jedi>=0.16 in /opt/app-root/lib/python3.8/site-packages (from IPython->import_ipynb) (0.18.1)\n",
      "Requirement already satisfied: setuptools>=18.5 in /opt/app-root/lib/python3.8/site-packages (from IPython->import_ipynb) (60.5.0)\n",
      "Requirement already satisfied: pexpect>4.3 in /opt/app-root/lib/python3.8/site-packages (from IPython->import_ipynb) (4.8.0)\n",
      "Requirement already satisfied: traitlets>=5 in /opt/app-root/lib/python3.8/site-packages (from IPython->import_ipynb) (5.1.1)\n",
      "Requirement already satisfied: backcall in /opt/app-root/lib/python3.8/site-packages (from IPython->import_ipynb) (0.2.0)\n",
      "Requirement already satisfied: stack-data in /opt/app-root/lib/python3.8/site-packages (from IPython->import_ipynb) (0.1.4)\n",
      "Requirement already satisfied: matplotlib-inline in /opt/app-root/lib/python3.8/site-packages (from IPython->import_ipynb) (0.1.3)\n",
      "Requirement already satisfied: ipython-genutils in /opt/app-root/lib/python3.8/site-packages (from nbformat->import_ipynb) (0.2.0)\n",
      "Requirement already satisfied: jupyter-core in /opt/app-root/lib/python3.8/site-packages (from nbformat->import_ipynb) (4.9.1)\n",
      "Requirement already satisfied: jsonschema!=2.5.0,>=2.4 in /opt/app-root/lib/python3.8/site-packages (from nbformat->import_ipynb) (4.4.0)\n",
      "Requirement already satisfied: parso<0.9.0,>=0.8.0 in /opt/app-root/lib/python3.8/site-packages (from jedi>=0.16->IPython->import_ipynb) (0.8.3)\n",
      "Requirement already satisfied: pyrsistent!=0.17.0,!=0.17.1,!=0.17.2,>=0.14.0 in /opt/app-root/lib/python3.8/site-packages (from jsonschema!=2.5.0,>=2.4->nbformat->import_ipynb) (0.18.1)\n",
      "Requirement already satisfied: attrs>=17.4.0 in /opt/app-root/lib/python3.8/site-packages (from jsonschema!=2.5.0,>=2.4->nbformat->import_ipynb) (21.4.0)\n",
      "Requirement already satisfied: importlib-resources>=1.4.0 in /opt/app-root/lib/python3.8/site-packages (from jsonschema!=2.5.0,>=2.4->nbformat->import_ipynb) (5.4.0)\n",
      "Requirement already satisfied: ptyprocess>=0.5 in /opt/app-root/lib/python3.8/site-packages (from pexpect>4.3->IPython->import_ipynb) (0.7.0)\n",
      "Requirement already satisfied: wcwidth in /opt/app-root/lib/python3.8/site-packages (from prompt-toolkit!=3.0.0,!=3.0.1,<3.1.0,>=2.0.0->IPython->import_ipynb) (0.2.5)\n",
      "Requirement already satisfied: pathspec<1,>=0.9.0 in /opt/app-root/lib/python3.8/site-packages (from black->IPython->import_ipynb) (0.9.0)\n",
      "Requirement already satisfied: typing-extensions>=3.10.0.0 in /opt/app-root/lib/python3.8/site-packages (from black->IPython->import_ipynb) (4.0.1)\n",
      "Requirement already satisfied: click>=7.1.2 in /opt/app-root/lib/python3.8/site-packages (from black->IPython->import_ipynb) (8.0.3)\n",
      "Requirement already satisfied: platformdirs>=2 in /opt/app-root/lib/python3.8/site-packages (from black->IPython->import_ipynb) (2.4.1)\n",
      "Requirement already satisfied: tomli<2.0.0,>=0.2.6 in /opt/app-root/lib/python3.8/site-packages (from black->IPython->import_ipynb) (1.2.3)\n",
      "Requirement already satisfied: mypy-extensions>=0.4.3 in /opt/app-root/lib/python3.8/site-packages (from black->IPython->import_ipynb) (0.4.3)\n",
      "Requirement already satisfied: executing in /opt/app-root/lib/python3.8/site-packages (from stack-data->IPython->import_ipynb) (0.8.2)\n",
      "Requirement already satisfied: pure-eval in /opt/app-root/lib/python3.8/site-packages (from stack-data->IPython->import_ipynb) (0.2.1)\n",
      "Requirement already satisfied: asttokens in /opt/app-root/lib/python3.8/site-packages (from stack-data->IPython->import_ipynb) (2.0.5)\n",
      "Requirement already satisfied: zipp>=3.1.0 in /opt/app-root/lib/python3.8/site-packages (from importlib-resources>=1.4.0->jsonschema!=2.5.0,>=2.4->nbformat->import_ipynb) (3.7.0)\n",
      "Requirement already satisfied: six in /opt/app-root/lib/python3.8/site-packages (from asttokens->stack-data->IPython->import_ipynb) (1.16.0)\n",
      "Installing collected packages: import-ipynb\n",
      "Successfully installed import-ipynb-0.1.4\n",
      "\u001b[33mWARNING: You are using pip version 21.3.1; however, version 22.1.2 is available.\n",
      "You should consider upgrading via the '/opt/app-root/bin/python3.8 -m pip install --upgrade pip' command.\u001b[0m\n"
     ]
    }
   ],
   "source": [
    "! pip install import_ipynb"
   ]
  },
  {
   "cell_type": "code",
   "execution_count": 13,
   "id": "5cb2a190-e2a5-4c0f-9856-724fe71d12e2",
   "metadata": {},
   "outputs": [],
   "source": [
    "import psycopg2\n",
    "import import_ipynb"
   ]
  },
  {
   "cell_type": "code",
   "execution_count": 17,
   "id": "1e6d3a69-cc1d-4ba0-87d0-66fe8475bca1",
   "metadata": {},
   "outputs": [],
   "source": [
    "from config import config"
   ]
  },
  {
   "cell_type": "code",
   "execution_count": 18,
   "id": "9b3e4457-95ab-44c7-b797-bb977c980cf0",
   "metadata": {},
   "outputs": [
    {
     "name": "stdout",
     "output_type": "stream",
     "text": [
      "Connecting to the PostgreSQL database...\n",
      "PostgreSQL database version:\n",
      "('PostgreSQL 10.17 on x86_64-redhat-linux-gnu, compiled by gcc (GCC) 8.5.0 20210514 (Red Hat 8.5.0-2), 64-bit',)\n",
      "Database connection closed.\n"
     ]
    }
   ],
   "source": [
    "def connect():\n",
    "    \"\"\" Connect to the PostgreSQL database server \"\"\"\n",
    "    conn = None\n",
    "    try:\n",
    "        # read connection parameters\n",
    "        params = config()\n",
    "\n",
    "        # connect to the PostgreSQL server\n",
    "        print('Connecting to the PostgreSQL database...')\n",
    "        conn = psycopg2.connect(**params)\n",
    "\n",
    "        # create a cursor to execute SQL queries\n",
    "        cur = conn.cursor()\n",
    "        \n",
    "        # execute a statement\n",
    "        print('PostgreSQL database version:')\n",
    "        cur.execute('SELECT version()')\n",
    "\n",
    "        # display the PostgreSQL database server version\n",
    "        db_version = cur.fetchone()\n",
    "        print(db_version)\n",
    "       \n",
    "        # close the communication with the PostgreSQL\n",
    "        cur.close()\n",
    "    except (Exception, psycopg2.DatabaseError) as error:\n",
    "        print(error)\n",
    "    finally:\n",
    "        if conn is not None:\n",
    "            conn.close()\n",
    "            print('Database connection closed.')\n",
    "\n",
    "\n",
    "if __name__ == '__main__':\n",
    "    connect()"
   ]
  }
 ],
 "metadata": {
  "kernelspec": {
   "display_name": "Python 3 (ipykernel)",
   "language": "python",
   "name": "python3"
  },
  "language_info": {
   "codemirror_mode": {
    "name": "ipython",
    "version": 3
   },
   "file_extension": ".py",
   "mimetype": "text/x-python",
   "name": "python",
   "nbconvert_exporter": "python",
   "pygments_lexer": "ipython3",
   "version": "3.8.8"
  }
 },
 "nbformat": 4,
 "nbformat_minor": 5
}
